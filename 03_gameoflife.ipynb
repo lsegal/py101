{
 "cells": [
  {
   "cell_type": "code",
   "execution_count": 58,
   "metadata": {},
   "outputs": [
    {
     "data": {
      "text/plain": [
       "[<matplotlib.lines.Line2D at 0x135bc2d90>]"
      ]
     },
     "execution_count": 58,
     "metadata": {},
     "output_type": "execute_result"
    },
    {
     "data": {
      "image/png": "[encoded data removed]",
      "text/plain": [
       "<Figure size 432x288 with 1 Axes>"
      ]
     },
     "metadata": {
      "needs_background": "light"
     },
     "output_type": "display_data"
    }
   ],
   "source": [
    "import numpy as np\n",
    "import matplotlib.pyplot as plt\n",
    "\n",
    "x = range(1, 6)\n",
    "y = [4, 8, 40, 100, 16]\n",
    "plt.plot(x, y, 'o')\n"
   ]
  },
  {
   "cell_type": "code",
   "execution_count": 57,
   "metadata": {},
   "outputs": [
    {
     "data": {
      "text/plain": [
       "[<matplotlib.lines.Line2D at 0x135b64040>]"
      ]
     },
     "execution_count": 57,
     "metadata": {},
     "output_type": "execute_result"
    },
    {
     "data": {
      "image/png": "[encoded data removed]",
      "text/plain": [
       "<Figure size 432x288 with 1 Axes>"
      ]
     },
     "metadata": {
      "needs_background": "light"
     },
     "output_type": "display_data"
    }
   ],
   "source": [
    "import numpy as np\n",
    "import matplotlib.pyplot as plt\n",
    "\n",
    "x = range(1, 6)\n",
    "y = [4, 8, 40, 100, 16]\n",
    "z = np.polyfit(x, y, 4)\n",
    "f = np.poly1d(z)\n",
    "\n",
    "plt.plot(x, y, 'o')\n",
    "x_new = np.linspace(1, 5, 100)\n",
    "plt.plot(x_new, f(x_new))\n"
   ]
  },
  {
   "cell_type": "code",
   "execution_count": 66,
   "metadata": {},
   "outputs": [
    {
     "data": {
      "image/png": "[encoded data removed]",
      "text/plain": [
       "<Figure size 576x576 with 1 Axes>"
      ]
     },
     "metadata": {},
     "output_type": "display_data"
    }
   ],
   "source": [
    "import numpy as np\n",
    "import matplotlib.pyplot as plt\n",
    "import time\n",
    "from IPython import display\n",
    "\n",
    "# create a game of life\n",
    "def create_game(n):\n",
    "    game = np.random.randint(2, size=(n,n))\n",
    "    return game\n",
    "\n",
    "def count_neighbors(game, row, col):\n",
    "    count = 0\n",
    "    for y in range(row - 1, row + 2):\n",
    "        for x in range(col - 1, col + 2):\n",
    "            if x == col and y == row:\n",
    "                continue\n",
    "            y = y % len(game)\n",
    "            x = x % len(game[y])\n",
    "            count += game[y][x]\n",
    "    return count\n",
    "\n",
    "def mutate_board(game):\n",
    "    for row in range(len(game)):\n",
    "        for col in range(len(game[row])):\n",
    "            count = count_neighbors(game, row, col)\n",
    "            if game[row][col] == 1:\n",
    "                if count < 2:\n",
    "                    game[row][col] = 0\n",
    "                elif count > 3:\n",
    "                    game[row][col] = 0\n",
    "            elif count == 3:\n",
    "                game[row][col] = 1\n",
    "    return game\n",
    "\n",
    "def display_board(board):\n",
    "    x = []\n",
    "    y = []\n",
    "    for row in range(len(board)):\n",
    "        for col in range(len(board[row])):\n",
    "            if board[row][col] == 1:\n",
    "                x.append(col)\n",
    "                y.append(row)\n",
    "    plt.figure(figsize=(8, 8), clear=True)\n",
    "    plt.imshow(board, cmap='Blues')\n",
    "    display.display(plt.gcf())\n",
    "    plt.close()\n",
    "\n",
    "board = create_game(8)\n",
    "for n in range(25):\n",
    "  display.clear_output(wait=True)\n",
    "  display_board(board)\n",
    "  mutate_board(board)\n",
    "  time.sleep(0.1)\n"
   ]
  }
 ],
 "metadata": {
  "kernelspec": {
   "display_name": "Python 3.9.13 64-bit",
   "language": "python",
   "name": "python3"
  },
  "language_info": {
   "codemirror_mode": {
    "name": "ipython",
    "version": 3
   },
   "file_extension": ".py",
   "mimetype": "text/x-python",
   "name": "python",
   "nbconvert_exporter": "python",
   "pygments_lexer": "ipython3",
   "version": "3.9.13"
  },
  "orig_nbformat": 4,
  "vscode": {
   "interpreter": {
    "hash": "aee8b7b246df8f9039afb4144a1f6fd8d2ca17a180786b69acc140d282b71a49"
   }
  }
 },
 "nbformat": 4,
 "nbformat_minor": 2
}
